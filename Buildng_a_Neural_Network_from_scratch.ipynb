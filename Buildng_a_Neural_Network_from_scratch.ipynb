{
  "nbformat": 4,
  "nbformat_minor": 0,
  "metadata": {
    "colab": {
      "provenance": [],
      "authorship_tag": "ABX9TyOMlcFsnPQWWG2sau85aoqt",
      "include_colab_link": true
    },
    "kernelspec": {
      "name": "python3",
      "display_name": "Python 3"
    },
    "language_info": {
      "name": "python"
    }
  },
  "cells": [
    {
      "cell_type": "markdown",
      "metadata": {
        "id": "view-in-github",
        "colab_type": "text"
      },
      "source": [
        "<a href=\"https://colab.research.google.com/github/prateekwalia31/Deep_Learning_Tutorials/blob/main/Buildng_a_Neural_Network_from_scratch.ipynb\" target=\"_parent\"><img src=\"https://colab.research.google.com/assets/colab-badge.svg\" alt=\"Open In Colab\"/></a>"
      ]
    },
    {
      "cell_type": "markdown",
      "source": [
        "**A single neuron structure with three inputs.**"
      ],
      "metadata": {
        "id": "_xjm0t1mpjRs"
      }
    },
    {
      "cell_type": "code",
      "execution_count": null,
      "metadata": {
        "colab": {
          "base_uri": "https://localhost:8080/"
        },
        "id": "YTX6jYOToGdd",
        "outputId": "119e3b96-b094-4380-e91f-89dc0283116f"
      },
      "outputs": [
        {
          "output_type": "stream",
          "name": "stdout",
          "text": [
            "4.95\n"
          ]
        }
      ],
      "source": [
        "inputs = [1, 2, 3]\n",
        "weights = [0.25, 0.40, 0.80]\n",
        "bias = 0.1\n",
        "\n",
        "output = inputs[0]*weights[0] + inputs[1]*weights[1] + inputs[2]*weights[2] + bias #The output function is given by Sum of input*weight from 1 to n added with the bias\n",
        "print(output)"
      ]
    },
    {
      "cell_type": "markdown",
      "source": [
        "**Modelling a three neuron layer with four inputs and three sets of weights and biases.**"
      ],
      "metadata": {
        "id": "nH9Nq2SAp5LD"
      }
    },
    {
      "cell_type": "code",
      "source": [
        "inputs = [1, 2, 3, 4]\n",
        "\n",
        "weights1 = [0.25, 0.40, 0.80, 1.25] \n",
        "weights2 = [0.5, 0.10, -0.25, -0.5]\n",
        "weights3 = [-0.40, -0.70, 0.55, 0.15]\n",
        "\n",
        "bias1 = 0.1\n",
        "bias2 = 0.2\n",
        "bias3 = 0.3\n",
        "\n",
        "output = [inputs[0]*weights1[0] + inputs[1]*weights1[1] + inputs[2]*weights1[2] + inputs[3]*weights1[3] + bias1,\n",
        "          inputs[0]*weights2[0] + inputs[1]*weights2[1] + inputs[2]*weights2[2] + inputs[3]*weights2[3] + bias2,\n",
        "          inputs[0]*weights3[0] + inputs[1]*weights3[1] + inputs[2]*weights3[2] + inputs[3]*weights3[3] + bias3]\n",
        "print(output)"
      ],
      "metadata": {
        "colab": {
          "base_uri": "https://localhost:8080/"
        },
        "id": "k6qzxO2Zp42e",
        "outputId": "3d46b2bc-dc5d-40f3-a8d6-58c9edc55a27"
      },
      "execution_count": null,
      "outputs": [
        {
          "output_type": "stream",
          "name": "stdout",
          "text": [
            "[9.2, -0.7999999999999998, 0.9500000000000003]\n"
          ]
        }
      ]
    },
    {
      "cell_type": "markdown",
      "source": [
        "**Using dot product from the numpy library wih a layer of neurons and four inputs.**"
      ],
      "metadata": {
        "id": "hAD8W3N0rNRp"
      }
    },
    {
      "cell_type": "code",
      "source": [
        "import numpy as np  #Numpy library for dot product and matrice multiplication\n",
        "\n",
        "inputs = [1, 2, 3, 4]\n",
        "weights = [[0.25, 0.40, 0.80, 1.25],\n",
        "           [0.5, 0.10, -0.25, -0.5],\n",
        "           [-0.40, -0.70, 0.55, 0.15]]\n",
        "\n",
        "biases = [0.2, 0.3, 0.4]\n",
        "\n",
        "output = np.dot(weights, inputs) + biases\n",
        "print(output)"
      ],
      "metadata": {
        "colab": {
          "base_uri": "https://localhost:8080/"
        },
        "id": "d7b0g8EbrckY",
        "outputId": "64dafcf8-f711-401e-ebc8-0ade9b6987a3"
      },
      "execution_count": null,
      "outputs": [
        {
          "output_type": "stream",
          "name": "stdout",
          "text": [
            "[10.45  0.95  0.95]\n"
          ]
        }
      ]
    },
    {
      "cell_type": "markdown",
      "source": [
        "**Batches, Layers and Objects**"
      ],
      "metadata": {
        "id": "0PjWzrWwr5JZ"
      }
    },
    {
      "cell_type": "code",
      "source": [
        "import numpy as np \n",
        "\n",
        "np.random.seed(0)\n",
        "\n",
        "#X is input \n",
        "\n",
        "X = [[1, 2, 3, 4], \n",
        "     [-1, 2, -1.0, 3],\n",
        "     [-1.5, 2.25, 1.0, -0.25]]\n",
        "\n",
        "\n",
        "class LayerDense:\n",
        "    def __init__(self, n_inputs, n_neurons):\n",
        "        self.weights = 0.10 * np.random.randn(n_inputs, n_neurons)\n",
        "        self.biases = np.zeros((1, n_neurons))\n",
        "    def forward(self, inputs):\n",
        "        self.output = np.dot(inputs, self.weights) + self.biases\n",
        "\n",
        "first_layer = LayerDense(4,5)\n",
        "second_layer = LayerDense(5,2)\n",
        "\n",
        "first_layer.forward(X)\n",
        "print(first_layer.output)\n",
        "second_layer.forward(first_layer.output)\n",
        "print(second_layer.output)"
      ],
      "metadata": {
        "colab": {
          "base_uri": "https://localhost:8080/"
        },
        "id": "S9GsCPXSs5Cg",
        "outputId": "6869b6b4-dfa8-4b2b-b758-afeefa356ac7"
      },
      "execution_count": null,
      "outputs": [
        {
          "output_type": "stream",
          "name": "stdout",
          "text": [
            "[[ 0.15763246  1.26394709  0.21385037  0.36517514  0.06039617]\n",
            " [-0.28616287  0.45279833 -0.26579649 -0.16298028 -0.40525114]\n",
            " [-0.47843288  0.26182169 -0.09963334 -0.35501741 -0.12201032]\n",
            " [-0.47843288  0.26182169 -0.09963334 -0.35501741 -0.12201032]]\n",
            "[[ 0.12848393 -0.11256537]\n",
            " [-0.01099249 -0.07014792]\n",
            " [ 0.10183592 -0.04749476]\n",
            " [ 0.10183592 -0.04749476]]\n"
          ]
        }
      ]
    },
    {
      "cell_type": "markdown",
      "source": [
        "**Using the Rectified Linear Unit activation function.**"
      ],
      "metadata": {
        "id": "DOxz5pO-us7K"
      }
    },
    {
      "cell_type": "code",
      "source": [
        "!pip install nnfs"
      ],
      "metadata": {
        "colab": {
          "base_uri": "https://localhost:8080/"
        },
        "id": "y7mpP8IewD9G",
        "outputId": "5469403f-6480-4a49-dffc-a0c52ce5ef9f"
      },
      "execution_count": null,
      "outputs": [
        {
          "output_type": "stream",
          "name": "stdout",
          "text": [
            "Requirement already satisfied: nnfs in /usr/local/lib/python3.7/dist-packages (0.5.1)\n",
            "Requirement already satisfied: numpy in /usr/local/lib/python3.7/dist-packages (from nnfs) (1.19.5)\n"
          ]
        }
      ]
    },
    {
      "cell_type": "markdown",
      "source": [
        "**Importing dataset from nnfs and visualizing using matplot lib**"
      ],
      "metadata": {
        "id": "Kzk6bLvsyIQk"
      }
    },
    {
      "cell_type": "code",
      "source": [
        "import matplotlib.pyplot as plt\n",
        "\n",
        "from nnfs.datasets import spiral_data  \n",
        "nnfs.init()\n",
        "\n",
        "X, y = spiral_data(100, 3)   \n",
        "\n",
        "plt.scatter(X[:,0], X[:,1], c=y, cmap=\"brg\")\n"
      ],
      "metadata": {
        "colab": {
          "base_uri": "https://localhost:8080/",
          "height": 283
        },
        "id": "ge6JLtfWwVxP",
        "outputId": "615af8cc-063c-4b01-c7b4-08f3da40f9ff"
      },
      "execution_count": null,
      "outputs": [
        {
          "output_type": "execute_result",
          "data": {
            "text/plain": [
              "<matplotlib.collections.PathCollection at 0x7fa93f4ed510>"
            ]
          },
          "metadata": {},
          "execution_count": 40
        },
        {
          "output_type": "display_data",
          "data": {
            "image/png": "[encoded data removed]",
            "text/plain": [
              "<Figure size 432x288 with 1 Axes>"
            ]
          },
          "metadata": {
            "needs_background": "light"
          }
        }
      ]
    },
    {
      "cell_type": "markdown",
      "source": [
        "Using the Recified Linear Unit (ReLU) activaton function"
      ],
      "metadata": {
        "id": "8gV7dUDlySm8"
      }
    },
    {
      "cell_type": "code",
      "source": [
        "import numpy as np \n",
        "import nnfs\n",
        "from nnfs.datasets import spiral_data  \n",
        "nnfs.init()\n",
        "\n",
        "X, y = spiral_data(100, 3)   \n",
        "\n",
        "\n",
        "class LayerDense:\n",
        "    def __init__(self, n_inputs, n_neurons):\n",
        "        self.weights = 0.10 * np.random.randn(n_inputs, n_neurons)\n",
        "        self.biases = np.zeros((1, n_neurons))\n",
        "    def forward(self, inputs):\n",
        "        self.output = np.dot(inputs, self.weights) + self.biases\n",
        "\n",
        "\n",
        "class Activation_ReLU:\n",
        "    def forward(self, inputs):\n",
        "        self.output = np.maximum(0, inputs)\n",
        "\n",
        "\n",
        "first_layer = LayerDense(2,5)\n",
        "activation1 = Activation_ReLU()\n",
        "\n",
        "first_layer.forward(X)\n",
        "\n",
        "print(first_layer.output)\n",
        "activation1.forward(first_layer.output)\n",
        "print(activation1.output)"
      ],
      "metadata": {
        "colab": {
          "base_uri": "https://localhost:8080/"
        },
        "id": "FT_vhwQNuxjF",
        "outputId": "3c0d0260-01ef-4092-cea1-8f500b649d95"
      },
      "execution_count": null,
      "outputs": [
        {
          "output_type": "stream",
          "name": "stdout",
          "text": [
            "[[ 0.00000000e+00  0.00000000e+00  0.00000000e+00  0.00000000e+00\n",
            "   0.00000000e+00]\n",
            " [-8.35815910e-04 -7.90404272e-04 -1.33452227e-03  4.65504505e-04\n",
            "   4.56846210e-05]\n",
            " [-2.39994470e-03  5.93469958e-05 -2.24808278e-03  2.03573116e-04\n",
            "   6.10024377e-04]\n",
            " ...\n",
            " [ 1.13291524e-01 -1.89262271e-01 -2.06855070e-02  8.11079666e-02\n",
            "  -6.71350807e-02]\n",
            " [ 1.34588361e-01 -1.43197834e-01  3.09493970e-02  5.66337556e-02\n",
            "  -6.29687458e-02]\n",
            " [ 1.07817926e-01 -2.00809643e-01 -3.37579325e-02  8.72561932e-02\n",
            "  -6.81458861e-02]]\n",
            "[[0.00000000e+00 0.00000000e+00 0.00000000e+00 0.00000000e+00\n",
            "  0.00000000e+00]\n",
            " [0.00000000e+00 0.00000000e+00 0.00000000e+00 4.65504505e-04\n",
            "  4.56846210e-05]\n",
            " [0.00000000e+00 5.93469958e-05 0.00000000e+00 2.03573116e-04\n",
            "  6.10024377e-04]\n",
            " ...\n",
            " [1.13291524e-01 0.00000000e+00 0.00000000e+00 8.11079666e-02\n",
            "  0.00000000e+00]\n",
            " [1.34588361e-01 0.00000000e+00 3.09493970e-02 5.66337556e-02\n",
            "  0.00000000e+00]\n",
            " [1.07817926e-01 0.00000000e+00 0.00000000e+00 8.72561932e-02\n",
            "  0.00000000e+00]]\n"
          ]
        }
      ]
    },
    {
      "cell_type": "markdown",
      "source": [
        "**Using Softmax Activation function for the output layer**"
      ],
      "metadata": {
        "id": "NVoqVcqoydKk"
      }
    },
    {
      "cell_type": "code",
      "source": [
        "import numpy as np \n",
        "import nnfs\n",
        "from nnfs.datasets import spiral_data\n",
        "\n",
        "\n",
        "nnfs.init()\n",
        "\n",
        "class LayerDense:\n",
        "    def __init__(self, n_inputs, n_neurons):\n",
        "        self.weights = 0.1 * np.random.randn(n_inputs, n_neurons)\n",
        "        self.biases = np.zeros((1, n_neurons))\n",
        "    def forward(self, inputs):\n",
        "        self.output = np.dot(inputs, self.weights) + self.biases\n",
        "\n",
        "\n",
        "class Activation_ReLU:\n",
        "    def forward(self, inputs):\n",
        "        self.output = np.maximum(0, inputs)\n",
        "\n",
        "class Activation_Softmax:\n",
        "    def forward(self, inputs):\n",
        "        exp_values = np.exp(inputs - np.max(inputs, axis=1, keepdims=True))\n",
        "        probabilities = exp_values / np.sum(exp_values, axis=1, keepdims=True)\n",
        "        self.output = probabilities\n",
        "\n",
        "\n",
        "X, y = spiral_data(samples=100, classes=3)\n",
        "\n",
        "dense1 = LayerDense(2,3)\n",
        "activation1 = Activation_ReLU()\n",
        "\n",
        "dense2 = LayerDense(3, 3)\n",
        "activation2 = Activation_Softmax()\n",
        "\n",
        "dense1.forward(X)\n",
        "activation1.forward(dense1.output)\n",
        "\n",
        "dense2.forward(activation1.output)\n",
        "activation2.forward(dense2.output)\n",
        "\n",
        "print(activation2.output[:5])"
      ],
      "metadata": {
        "colab": {
          "base_uri": "https://localhost:8080/"
        },
        "id": "TNTsaRmdyp2T",
        "outputId": "a1082a1f-d7b6-48a2-b113-d1abb9852f47"
      },
      "execution_count": null,
      "outputs": [
        {
          "output_type": "stream",
          "name": "stdout",
          "text": [
            "[[0.33333334 0.33333334 0.33333334]\n",
            " [0.33331734 0.3333183  0.33336434]\n",
            " [0.3332888  0.33329153 0.33341965]\n",
            " [0.33325943 0.33326396 0.33347666]\n",
            " [0.33323312 0.33323926 0.33352762]]\n"
          ]
        }
      ]
    },
    {
      "cell_type": "markdown",
      "source": [
        "**Error Function (Difference in target and actual output)**"
      ],
      "metadata": {
        "id": "11hIfICFzQOL"
      }
    },
    {
      "cell_type": "code",
      "source": [
        "import math\n",
        "\n",
        "softmax_output = [0.5, 0.1, 0.4]\n",
        "target_output = [1, 0, 0]\n",
        "\n",
        "loss = -(math.log(softmax_output[0]) * target_output[0] +\n",
        "         math.log(softmax_output[1]) * target_output[1] +\n",
        "         math.log(softmax_output[2]) * target_output[2])\n",
        "\n",
        "print(loss)\n",
        "print(-math.log(0.6))\n",
        "print(-math.log(0.5))"
      ],
      "metadata": {
        "colab": {
          "base_uri": "https://localhost:8080/"
        },
        "id": "A46KudxMy7G0",
        "outputId": "4c824f1e-500d-402a-f155-948dbd44d993"
      },
      "execution_count": null,
      "outputs": [
        {
          "output_type": "stream",
          "name": "stdout",
          "text": [
            "0.6931471805599453\n",
            "0.5108256237659907\n",
            "0.6931471805599453\n"
          ]
        }
      ]
    },
    {
      "cell_type": "markdown",
      "source": [
        "**Categorical Cross Entropy Loss Function**"
      ],
      "metadata": {
        "id": "DlFDXhlq0zQt"
      }
    },
    {
      "cell_type": "code",
      "source": [
        "import numpy as np \n",
        "import nnfs\n",
        "from nnfs.datasets import spiral_data\n",
        "\n",
        "\n",
        "nnfs.init()\n",
        "\n",
        "class LayerDense:\n",
        "    def __init__(self, n_inputs, n_neurons):\n",
        "        self.weights = 0.01 * np.random.randn(n_inputs, n_neurons)\n",
        "        self.biases = np.zeros((1, n_neurons))\n",
        "    def forward(self, inputs):\n",
        "        self.output = np.dot(inputs, self.weights) + self.biases\n",
        "\n",
        "\n",
        "class Activation_ReLU:\n",
        "    def forward(self, inputs):\n",
        "        self.output = np.maximum(0, inputs)\n",
        "\n",
        "class Activation_Softmax:\n",
        "    def forward(self, inputs):\n",
        "        exp_values = np.exp(inputs - np.max(inputs, axis=1, keepdims=True))\n",
        "        probabilities = exp_values / np.sum(exp_values, axis=1, keepdims=True)\n",
        "        self.output = probabilities\n",
        "\n",
        "class Loss:\n",
        "    def calculate(self, output, y):\n",
        "        sample_losses = self.forward(output, y)\n",
        "        data_loss = np.mean(sample_losses)\n",
        "        return data_loss\n",
        "\n",
        "class Loss_CategoricalCrossentropy(Loss):\n",
        "    def forward(self, y_pred, y_true):\n",
        "        samples = len(y_pred)\n",
        "        y_pred_clipped = np.clip(y_pred, 1e-7, 1-1e-7)\n",
        "\n",
        "        if len(y_true.shape) == 1:\n",
        "            correct_confidences = y_pred_clipped[range(samples), y_true]\n",
        "\n",
        "        elif len(y_true.shape) == 2:\n",
        "            correct_confidences = np.sum(y_pred_clipped*y_true, axis=1)\n",
        "\n",
        "        negative_log_likelihoods = -np.log(correct_confidences)\n",
        "        return negative_log_likelihoods\n",
        "\n",
        "\n",
        "\n",
        "\n",
        "X, y = spiral_data(samples=100, classes=3)\n",
        "\n",
        "dense1 = LayerDense(2,3)\n",
        "activation1 = Activation_ReLU()\n",
        "\n",
        "dense2 = LayerDense(3, 3)\n",
        "activation2 = Activation_Softmax()\n",
        "\n",
        "dense1.forward(X)\n",
        "activation1.forward(dense1.output)\n",
        "\n",
        "dense2.forward(activation1.output)\n",
        "activation2.forward(dense2.output)\n",
        "\n",
        "print('Activation 2 output:\\n', activation2.output[:5])\n",
        "\n",
        "loss_function = Loss_CategoricalCrossentropy()\n",
        "loss = loss_function.calculate(activation2.output, y)\n",
        "\n",
        "print(\"Loss:\", loss)"
      ],
      "metadata": {
        "colab": {
          "base_uri": "https://localhost:8080/"
        },
        "id": "YA8_9FOM0yys",
        "outputId": "355600a6-4be1-4c25-cb65-eede93c9355f"
      },
      "execution_count": null,
      "outputs": [
        {
          "output_type": "stream",
          "name": "stdout",
          "text": [
            "Activation 2 output:\n",
            " [[0.33333334 0.33333334 0.33333334]\n",
            " [0.3333332  0.3333332  0.33333364]\n",
            " [0.3333329  0.33333293 0.3333342 ]\n",
            " [0.3333326  0.33333263 0.33333477]\n",
            " [0.33333233 0.3333324  0.33333528]]\n",
            "Loss: 1.0986104\n"
          ]
        }
      ]
    }
  ]
}